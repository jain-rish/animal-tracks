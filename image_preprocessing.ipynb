{
 "cells": [
  {
   "cell_type": "code",
   "execution_count": 2,
   "metadata": {},
   "outputs": [],
   "source": [
    "# take center crop\n",
    "\n",
    "import pandas as pd\n",
    "import pygame, sys\n",
    "from PIL import Image\n",
    "from crop_images import *\n",
    "from os.path import isfile, join\n",
    "from os import listdir\n",
    "from matplotlib import pyplot as plt\n",
    "import cv2, os\n",
    "import pdb\n",
    "import numpy as np\n",
    "\n",
    "file_directory = '/Users/rmillin/Documents/Insight/animal-tracks/downloads/images/all_others/ready_to_crop/cropped'\n",
    "file_names = [f for f in listdir(file_directory) if isfile(join(file_directory, f))]\n",
    "\n",
    "img_size = [224, 224] # resize the image to this size - for VGG16\n",
    "\n",
    "# for each image:\n",
    "# if smaller than the desired size, stretch so the smaller dimension matches that size and take 4 crops (top left, top right, bottom left, bottom right)\n",
    "# if larger than the desired size, shrink so the smaller dimension matches that size and take 4 crops\n",
    "for ind, file_name in enumerate(file_names):\n",
    "    try:\n",
    "        img = cv2.imread(os.path.join(file_directory,file_name))\n",
    "        orig_imsize = list(img.shape)\n",
    "        if orig_imsize[0]>orig_imsize[1]:\n",
    "            sfactor=img_size[1]/orig_imsize[1]\n",
    "        else:\n",
    "            sfactor=img_size[0]/orig_imsize[0] \n",
    "        # shrink/expand to have the larger size match the desired image size\n",
    "        dim = (int(orig_imsize[1] * sfactor), int(orig_imsize[0] * sfactor)) \n",
    "        # perform the actual resizing of the image and show it\n",
    "        new_img = cv2.resize(img, dim, interpolation = cv2.INTER_AREA)\n",
    "        # get the crop        \n",
    "        margin = np.array([new_img.shape[0]-img_size[0], new_img.shape[1]-img_size[1]])/2\n",
    "        tmp_img = new_img[int(round(margin[0])):int(round(margin[0]))+img_size[0],int(round(margin[1])):int(round(margin[1]))+img_size[1],:]\n",
    "#         pdb.set_trace()\n",
    "        cv2.imwrite(os.path.join(file_directory.replace('cropped','center_crop'),file_name.replace('_cropped.','_center.')), tmp_img)\n",
    "        # normalize contrast??????\n",
    "    except:\n",
    "        print('failure')"
   ]
  },
  {
   "cell_type": "code",
   "execution_count": 3,
   "metadata": {},
   "outputs": [],
   "source": [
    "# convert from color to grayscale\n",
    "import pandas as pd\n",
    "import pygame, sys\n",
    "from PIL import Image\n",
    "from crop_images import *\n",
    "from os.path import isfile, join\n",
    "from os import listdir\n",
    "from matplotlib import pyplot as plt\n",
    "import cv2, os\n",
    "import pdb\n",
    "import numpy as np\n",
    "\n",
    "file_directory = '/Users/rmillin/Documents/Insight/animal-tracks/downloads/images/all_others/ready_to_crop/center_crop'\n",
    "gray_file_directory = '/Users/rmillin/Documents/Insight/animal-tracks/downloads/images/all_others/ready_to_crop/center_crop/grayscale'\n",
    "file_names = [f for f in listdir(file_directory) if isfile(join(file_directory, f))]\n",
    "\n",
    "img_size = [224, 224] # resize the image to this size - for VGG16\n",
    "\n",
    "# for each image:\n",
    "# if smaller than the desired size, stretch so the smaller dimension matches that size and take 4 crops (top left, top right, bottom left, bottom right)\n",
    "# if larger than the desired size, shrink so the smaller dimension matches that size and take 4 crops\n",
    "for ind, file_name in enumerate(file_names):\n",
    "    try:\n",
    "        image = cv2.imread(os.path.join(file_directory,file_name))\n",
    "        gray_image = cv2.cvtColor(image, cv2.COLOR_BGR2GRAY)\n",
    "        cv2.imwrite(os.path.join(gray_file_directory,file_name.replace('_center.','_grayscale.')), gray_image)\n",
    "    except:\n",
    "        print(file_name)\n",
    "        \n",
    "        \n",
    "        \n",
    "        "
   ]
  },
  {
   "cell_type": "code",
   "execution_count": 6,
   "metadata": {},
   "outputs": [],
   "source": [
    "# median filter\n",
    "def do_median_filter(file_directory):\n",
    "    import cv2, os\n",
    "    import numpy as np\n",
    "    from os import listdir\n",
    "    from os.path import isfile, join\n",
    "\n",
    "    file_names = [f for f in listdir(file_directory) if isfile(join(file_directory, f))]\n",
    "\n",
    "    # for each image:\n",
    "    # if smaller than the desired size, stretch so the smaller dimension matches that size and take 4 crops (top left, top right, bottom left, bottom right)\n",
    "    # if larger than the desired size, shrink so the smaller dimension matches that size and take 4 crops\n",
    "    for ind, file_name in enumerate(file_names):\n",
    "        try:\n",
    "            src = cv2.imread(os.path.join(file_directory,file_name));\n",
    "            img = cv2.medianBlur(src, 13);\n",
    "            cv2.imwrite(os.path.join(file_directory.replace('_grayscale','_grayscale_filtered'),file_name.replace('.','_med.')), img)\n",
    "        except:\n",
    "            print('failure')\n"
   ]
  },
  {
   "cell_type": "code",
   "execution_count": 7,
   "metadata": {},
   "outputs": [
    {
     "name": "stdout",
     "output_type": "stream",
     "text": [
      "failure\n"
     ]
    }
   ],
   "source": [
    "# file_directory = '/Users/rmillin/Documents/Insight/animal-tracks/canine_vs_bear/test_grayscale/canine'\n",
    "# do_median_filter(file_directory)\n",
    "\n",
    "# file_directory = '/Users/rmillin/Documents/Insight/animal-tracks/canine_vs_bear/train_grayscale/canine'\n",
    "# do_median_filter(file_directory)\n",
    "\n",
    "# file_directory = '/Users/rmillin/Documents/Insight/animal-tracks/canine_vs_bear/test_grayscale/bear'\n",
    "# do_median_filter(file_directory)\n",
    "\n",
    "# file_directory = '/Users/rmillin/Documents/Insight/animal-tracks/canine_vs_bear/train_grayscale/bear'\n",
    "# do_median_filter(file_directory)\n",
    "\n",
    "file_directory = '/Users/rmillin/Documents/Insight/animal-tracks/downloads/images/all_others/ready_to_crop/center_crop/grayscale'\n",
    "do_median_filter(file_directory)\n",
    "\n",
    "\n",
    "\n"
   ]
  },
  {
   "cell_type": "code",
   "execution_count": 1,
   "metadata": {},
   "outputs": [],
   "source": [
    "# create rotations\n",
    "\n",
    "# augment dataset\n",
    "\n",
    "def do_rotations(file_directory):\n",
    "    import cv2, os\n",
    "    import numpy as np\n",
    "    from os import listdir\n",
    "    from os.path import isfile, join\n",
    "\n",
    "    file_names = [f for f in listdir(file_directory) if isfile(join(file_directory, f))]\n",
    "\n",
    "    # for each image:\n",
    "    # if smaller than the desired size, stretch so the smaller dimension matches that size and take 4 crops (top left, top right, bottom left, bottom right)\n",
    "    # if larger than the desired size, shrink so the smaller dimension matches that size and take 4 crops\n",
    "    for ind, file_name in enumerate(file_names):\n",
    "        try:\n",
    "            img = cv2.imread(os.path.join(file_directory,file_name))\n",
    "            # get image height, width\n",
    "            (h, w) = img.shape[:2]\n",
    "            # calculate the center of the image\n",
    "            center = (w / 2, h / 2)\n",
    "            scale = 1.0\n",
    "\n",
    "            # Perform the counter clockwise rotation holding at the center\n",
    "            # 90 degrees\n",
    "            M = cv2.getRotationMatrix2D(center, 90, scale)\n",
    "            tmp_img = cv2.warpAffine(img, M, (h, w))\n",
    "            cv2.imwrite(os.path.join(file_directory,file_name.replace('.','_rot90.')), tmp_img)\n",
    "\n",
    "            # 180 degrees\n",
    "            M = cv2.getRotationMatrix2D(center, 180, scale)\n",
    "            tmp_img = cv2.warpAffine(img, M, (h, w))\n",
    "            cv2.imwrite(os.path.join(file_directory,file_name.replace('.','_rot180.')), tmp_img)\n",
    "            # normalize contrast??????\n",
    "\n",
    "            # 270 degrees\n",
    "            M = cv2.getRotationMatrix2D(center, 270, scale)\n",
    "            tmp_img = cv2.warpAffine(img, M, (h, w))\n",
    "            cv2.imwrite(os.path.join(file_directory,file_name.replace('.','_rot270.')), tmp_img)\n",
    "\n",
    "        except:\n",
    "            print('failure')    \n",
    "            \n",
    "            \n",
    "            \n",
    "    "
   ]
  },
  {
   "cell_type": "code",
   "execution_count": 3,
   "metadata": {},
   "outputs": [
    {
     "name": "stdout",
     "output_type": "stream",
     "text": [
      "failure\n",
      "failure\n",
      "failure\n",
      "failure\n",
      "failure\n",
      "failure\n"
     ]
    }
   ],
   "source": [
    "from os.path import join\n",
    "\n",
    "animals = ['bear','canine','feline','hooved','others']\n",
    "folds = ['fold0','fold1','fold2','fold3','fold4','fold5']\n",
    "image_dir = '/Users/rmillin/Documents/Insight/image_reorg'\n",
    "sub_dir = ['train','test']\n",
    "for k in folds:\n",
    "    for j in sub_dir:\n",
    "        for n in animals:            \n",
    "            do_rotations(join(image_dir,k,j,n))\n",
    "\n",
    "            # image_dir = '/Users/rmillin/Documents/Insight/animal-tracks/multiclass/train_grayscale/bear'\n",
    "# do_rotations(image_dir)\n",
    "# image_dir = '/Users/rmillin/Documents/Insight/animal-tracks/multiclass/test_grayscale/'\n",
    "# do_rotations(image_dir)\n",
    "# image_dir = '/Users/rmillin/Documents/Insight/animal-tracks/multiclass/test_grayscale/bear'\n",
    "# do_rotations(image_dir)"
   ]
  },
  {
   "cell_type": "code",
   "execution_count": 5,
   "metadata": {},
   "outputs": [],
   "source": [
    "cv2.medianBlur?"
   ]
  },
  {
   "cell_type": "code",
   "execution_count": 17,
   "metadata": {},
   "outputs": [],
   "source": [
    "cv2.imshow?"
   ]
  },
  {
   "cell_type": "code",
   "execution_count": 5,
   "metadata": {},
   "outputs": [
    {
     "name": "stdout",
     "output_type": "stream",
     "text": [
      "failure\n",
      "failure\n",
      "failure\n",
      "failure\n",
      "failure\n",
      "failure\n",
      "failure\n",
      "failure\n"
     ]
    }
   ],
   "source": [
    "import pandas as pd\n",
    "import pygame, sys\n",
    "from PIL import Image\n",
    "from crop_images import *\n",
    "from os.path import isfile, join\n",
    "from os import listdir\n",
    "from matplotlib import pyplot as plt\n",
    "import cv2, os\n",
    "import pdb\n",
    "import numpy as np\n",
    "\n",
    "# final resize in case something weird happened\n",
    "base_dir = '/Users/rmillin/Documents/Insight/animal-tracks/multiclass'\n",
    "animals = ['feline','canine','bear','hooved','others']\n",
    "partitions = ['train_grayscale','test_grayscale']\n",
    "\n",
    "img_size = (224, 224) # resize the image to this size - for VGG16\n",
    "\n",
    "for animal in animals:\n",
    "    for partition in partitions:\n",
    "        # for each image:\n",
    "        # if smaller than the desired size, stretch so the smaller dimension matches that size and take 4 crops (top left, top right, bottom left, bottom right)\n",
    "        # if larger than the desired size, shrink so the smaller dimension matches that size and take 4 crops\n",
    "        file_names = [f for f in listdir(join(base_dir,partition,animal)) if isfile(join(base_dir,partition,animal,f))]\n",
    "        for ind, file_name in enumerate(file_names):\n",
    "            try:\n",
    "                img = cv2.imread(join(base_dir,partition,animal,file_name))\n",
    "                new_img = cv2.resize(img, img_size)\n",
    "                # get the crop        \n",
    "        #         pdb.set_trace()\n",
    "                cv2.imwrite(os.path.join(base_dir,partition,animal,file_name.replace('.','final.')), new_img)\n",
    "                # normalize contrast??????\n",
    "            except:\n",
    "                print('failure')"
   ]
  },
  {
   "cell_type": "code",
   "execution_count": null,
   "metadata": {},
   "outputs": [],
   "source": []
  }
 ],
 "metadata": {
  "kernelspec": {
   "display_name": "Python 3",
   "language": "python",
   "name": "python3"
  },
  "language_info": {
   "codemirror_mode": {
    "name": "ipython",
    "version": 3
   },
   "file_extension": ".py",
   "mimetype": "text/x-python",
   "name": "python",
   "nbconvert_exporter": "python",
   "pygments_lexer": "ipython3",
   "version": "3.6.5"
  }
 },
 "nbformat": 4,
 "nbformat_minor": 2
}
