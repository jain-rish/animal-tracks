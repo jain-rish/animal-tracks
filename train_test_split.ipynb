{
 "cells": [
  {
   "cell_type": "code",
   "execution_count": 2,
   "metadata": {},
   "outputs": [],
   "source": [
    "import pandas as pd\n",
    "import pygame, sys\n",
    "from PIL import Image\n",
    "from crop_images import *\n",
    "from os.path import isfile, join\n",
    "from os import listdir\n",
    "from matplotlib import pyplot as plt\n",
    "import cv2, os\n",
    "import pdb\n",
    "import numpy as np\n",
    "from shutil import copyfile\n",
    "import random\n",
    "\n",
    "base_dir = '/Users/rmillin/Documents/Insight/animal-tracks/multiclass'\n",
    "# directories = ['all_feline_grayscale', 'all_canine_grayscale']\n",
    "directories = ['all_others_grayscale_filtered']\n",
    "# directories = ['all_hooved_grayscale']\n",
    "num_test = 13\n",
    "num_train = 70\n",
    "\n",
    "for ind, directory in enumerate(directories):\n",
    "    # randomly divide files into train and test sets\n",
    "    file_names = [f for f in listdir(join(base_dir, directory)) if isfile(join(base_dir, directory, f))]\n",
    "    random.shuffle(file_names)\n",
    "    test_files = file_names[:num_test]\n",
    "    train_files = file_names[num_test:(num_test+num_train)]\n",
    "    # copy the files to train/test directories\n",
    "    for f in test_files:\n",
    "        copyfile(join(base_dir, directory, f), join(base_dir, 'test_grayscale_filtered', directory.replace('all_','').replace('_grayscale_filtered',''), f)) \n",
    "    for f in train_files:\n",
    "        copyfile(join(base_dir, directory, f), join(base_dir, 'train_grayscale_filtered', directory.replace('all_','').replace('_grayscale_filtered',''), f)) \n",
    "        \n",
    "        "
   ]
  },
  {
   "cell_type": "code",
   "execution_count": null,
   "metadata": {},
   "outputs": [],
   "source": []
  }
 ],
 "metadata": {
  "kernelspec": {
   "display_name": "Python 3",
   "language": "python",
   "name": "python3"
  },
  "language_info": {
   "codemirror_mode": {
    "name": "ipython",
    "version": 3
   },
   "file_extension": ".py",
   "mimetype": "text/x-python",
   "name": "python",
   "nbconvert_exporter": "python",
   "pygments_lexer": "ipython3",
   "version": "3.6.5"
  }
 },
 "nbformat": 4,
 "nbformat_minor": 2
}
